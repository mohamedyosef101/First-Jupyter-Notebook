{
 "cells": [
  {
   "attachments": {},
   "cell_type": "markdown",
   "metadata": {},
   "source": [
    "# My Jupyter Notebook"
   ]
  },
  {
   "attachments": {},
   "cell_type": "markdown",
   "metadata": {},
   "source": [
    "<strong>Mohamed Yosef Faiz</strong>"
   ]
  },
  {
   "attachments": {},
   "cell_type": "markdown",
   "metadata": {},
   "source": [
    "<em>I am interested in data science because I want to sharpen my Product Design and UX Research skills by collecting data and insights</em>"
   ]
  },
  {
   "attachments": {},
   "cell_type": "markdown",
   "metadata": {},
   "source": [
    "### I will print my username and job title"
   ]
  },
  {
   "cell_type": "code",
   "execution_count": 3,
   "metadata": {},
   "outputs": [
    {
     "name": "stdout",
     "output_type": "stream",
     "text": [
      "my username is MohamedYosef101\n",
      "I'm a Product Designer\n"
     ]
    }
   ],
   "source": [
    "username = \"MohamedYosef101\"\n",
    "job_title = \"Product Designer\"\n",
    "print(\"my username is \" + username)\n",
    "print(\"I'm a \" + job_title)\n"
   ]
  },
  {
   "attachments": {},
   "cell_type": "markdown",
   "metadata": {},
   "source": [
    "#### Projects I've made\n",
    "- Inspiring Art <small>'Mobile app'</small>\n",
    "- PR Era <small>'Online Platform'</small>\n",
    "- Power GYM <small>'Landing Page'</small>\n",
    "- Manage <small>'Responsive website'</small>\n",
    "- Credit card checkout <small>'custom design'<small>\n"
   ]
  },
  {
   "attachments": {},
   "cell_type": "markdown",
   "metadata": {},
   "source": [
    "You can follow me on: <br>\n",
    "<a href=\"https://behance.net/mohamedyosef101\">Behance</a>\n",
    "&#183;\n",
    "<a href=\"https://linkedin.com/in/mohamedyosef101\">LinkedIn</a>"
   ]
  },
  {
   "attachments": {},
   "cell_type": "markdown",
   "metadata": {},
   "source": [
    "<blockquote style=\"padding: 16px\">\n",
    "The better we get at getting better, the faster we get better.\n",
    "<br>\n",
    "<small>- Douglas Engelbart</small>\n",
    "</blockquote>"
   ]
  },
  {
   "attachments": {},
   "cell_type": "markdown",
   "metadata": {},
   "source": [
    "#### Books that changed my life:\n",
    "1. The 7 Habbits of Highly Effective People\n",
    "2. رحلتي من الشك لليقين\n",
    "3. Show your work\n",
    "4. 7 Strategies for Wealth & Happiness"
   ]
  }
 ],
 "metadata": {
  "kernelspec": {
   "display_name": "Python 3",
   "language": "python",
   "name": "python3"
  },
  "language_info": {
   "codemirror_mode": {
    "name": "ipython",
    "version": 3
   },
   "file_extension": ".py",
   "mimetype": "text/x-python",
   "name": "python",
   "nbconvert_exporter": "python",
   "pygments_lexer": "ipython3",
   "version": "3.11.1 (tags/v3.11.1:a7a450f, Dec  6 2022, 19:43:28) [MSC v.1934 32 bit (Intel)]"
  },
  "orig_nbformat": 4,
  "vscode": {
   "interpreter": {
    "hash": "48fd651ec6c604f3f9d8c158cd8f5b840298cbd890f80dad248909437f2a56c0"
   }
  }
 },
 "nbformat": 4,
 "nbformat_minor": 2
}
